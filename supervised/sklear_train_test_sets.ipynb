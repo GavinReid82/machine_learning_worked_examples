{
 "cells": [
  {
   "cell_type": "code",
   "execution_count": 3,
   "id": "7fde69fc-315e-495c-98d2-27c4e4e68869",
   "metadata": {},
   "outputs": [],
   "source": [
    "import pandas as pd\n",
    "\n",
    "# import train_test_split\n",
    "from sklearn.model_selection import train_test_split"
   ]
  },
  {
   "cell_type": "code",
   "execution_count": 5,
   "id": "73329fd8-939a-42ad-a236-f8090eaf06f2",
   "metadata": {},
   "outputs": [],
   "source": [
    "streeteasy = pd.read_csv(\"https://raw.githubusercontent.com/sonnynomnom/Codecademy-Machine-Learning-Fundamentals/master/StreetEasy/manhattan.csv\")\n",
    "\n",
    "df = pd.DataFrame(streeteasy)"
   ]
  },
  {
   "cell_type": "code",
   "execution_count": 7,
   "id": "300f90d3-61bc-48b3-bff0-bb4b7c4f6eab",
   "metadata": {},
   "outputs": [
    {
     "name": "stdout",
     "output_type": "stream",
     "text": [
      "(2831, 14)\n",
      "(708, 14)\n",
      "(2831, 1)\n",
      "(708, 1)\n"
     ]
    }
   ],
   "source": [
    "x = df[['bedrooms', 'bathrooms', 'size_sqft', 'min_to_subway', 'floor', 'building_age_yrs', 'no_fee', 'has_roofdeck', 'has_washer_dryer', 'has_doorman', 'has_elevator', 'has_dishwasher', 'has_patio', 'has_gym']]\n",
    "y = df[['rent']]\n",
    "\n",
    "x_train, x_test, y_train, y_test = train_test_split(x, y, train_size=0.8, test_size=0.2, random_state=6)\n",
    "\n",
    "print(x_train.shape)\n",
    "print(x_test.shape)\n",
    "print(y_train.shape)\n",
    "print(y_test.shape)"
   ]
  },
  {
   "cell_type": "code",
   "execution_count": null,
   "id": "24b83913-0ce8-41fb-99e4-36db8b180c9f",
   "metadata": {},
   "outputs": [],
   "source": []
  }
 ],
 "metadata": {
  "kernelspec": {
   "display_name": "Python 3 (ipykernel)",
   "language": "python",
   "name": "python3"
  },
  "language_info": {
   "codemirror_mode": {
    "name": "ipython",
    "version": 3
   },
   "file_extension": ".py",
   "mimetype": "text/x-python",
   "name": "python",
   "nbconvert_exporter": "python",
   "pygments_lexer": "ipython3",
   "version": "3.11.7"
  }
 },
 "nbformat": 4,
 "nbformat_minor": 5
}
